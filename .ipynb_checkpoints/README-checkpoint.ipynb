{
 "cells": [
  {
   "cell_type": "raw",
   "metadata": {},
   "source": [
    "---\n",
    "title: \"finitediff_backward\"\n",
    "date: 2018-08-21T08:00:00+02:00\n",
    "lastmod: 2018-09-03T17:00:00+02:00\n",
    "draft: false\n",
    "tags: [finitediff_backward]\n",
    "---"
   ]
  },
  {
   "cell_type": "markdown",
   "metadata": {},
   "source": [
    "### Notation\n",
    "\n",
    "| symbol | set | code | description |\n",
    "|:------:|:---:|:----:|:------------|\n",
    "| $f$    | $\\mathbb{R}$ | `myfunc` | the function |\n",
    "| $\\mathbf{X}$ | $\\mathbb{R}^n$ | `X` | vector with variables |\n",
    "| $x_i$ | $\\mathbb{R}$ | `x[i]` | the $i$-th variable  |\n",
    "| $h$ | $\\{h \\in \\mathbb{R} \\| h>0 \\}$ | `h` | increment parameter (step size, band width) |\n",
    "| $\\frac{\\partial f(\\mathbf{X})}{\\partial x_i}$ | $\\mathbb{R}$ | `g[i]` | partial derivative for the $i$-th variable |\n",
    "| $\\nabla f$ | $\\mathbb{R}^n$ | `g` | gradient vector |\n",
    "\n"
   ]
  },
  {
   "cell_type": "markdown",
   "metadata": {},
   "source": [
    "### Partial Derivatives\n",
    "Be $\\mathbf{X} = (x_i) \\in \\mathbb{R}^n$ the **variables**, \n",
    "$f: \\mathbb{R}^n \\rightarrow \\mathbb{R}$ a (single output) **function**,\n",
    "$h \\in \\{h \\in \\mathbb{R} | h>0 \\}$ the **increment** parameter,\n",
    "$\\mathbf{1} = (1_i) \\in \\{0,1\\}^n$ a vector of zeros except the $i$-th entry that equals 1.\n",
    "The **partial derivative** (or limit) of function $f$ with respect to the $i$-th variable $x_i$ is\n",
    "\n",
    "$$\n",
    "\\frac{\\partial f(\\mathbf{X})}{\\partial x_i} := \\lim_{h \\rightarrow 0} \\frac{f(\\mathbf{X} + h \\cdot 1_i) - f(\\mathbf{X})}{h} \\qquad \\forall i\n",
    "$$\n",
    "\n",
    "When approaching from \"the other side\" the formula would be\n",
    "\n",
    "$$\n",
    "\\frac{\\partial f(\\mathbf{X})}{\\partial x_i} := \\lim_{h \\rightarrow 0} \\frac{f(\\mathbf{X}) - f(\\mathbf{X} - h \\cdot 1_i)}{h} \\qquad \\forall i\n",
    "$$\n"
   ]
  },
  {
   "cell_type": "markdown",
   "metadata": {},
   "source": [
    "### Finite Difference Approximation\n",
    "The **backward difference approximation** (backward Euler method) implements this approaching from \"the other side\" for some finite small value for the increment parameter, e.g. $h=10^{-8}$.\n",
    "\n",
    "$$\n",
    "\\frac{\\partial f(\\mathbf{X})}{\\partial x_i} \n",
    "\\approx g^b_i \n",
    "= \\frac{f(\\mathbf{X}) - f(\\mathbf{X} - h \\cdot 1_i)}{h}\n",
    "$$\n",
    "\n",
    "The backward difference approximation has similar properties as the forward difference approximation, e.g. \n",
    "\n",
    "* the backward approximation is always $g^f_i \\neq \\frac{\\partial f(\\mathbf{X})}{\\partial x_i}$ depending on the curvature\n",
    "* will never lie at point $\\mathbf{X}$\n"
   ]
  },
  {
   "cell_type": "markdown",
   "metadata": {},
   "source": [
    "### C Implementation (Outdated since 0.2.0)\n",
    "The `finitediff_backward` implementation differs only in how `g[i]` is computed compared to `finitediff_forward`.\n",
    "\n",
    "The `x` array is temporarily manipulated in `finitediff_backward`. \n",
    "In each iteration the `x[i]` value is backed up as `tmp` before adding the bandwith `h`.\n",
    "At the end `tmp` is reassigned to `x[i]`. \n",
    "The number of function evaluations is `n+1`."
   ]
  },
  {
   "cell_type": "code",
   "execution_count": 1,
   "metadata": {
    "ExecuteTime": {
     "end_time": "2018-08-21T07:57:28.028583Z",
     "start_time": "2018-08-21T07:57:27.859935Z"
    }
   },
   "outputs": [
    {
     "name": "stdout",
     "output_type": "stream",
     "text": [
      "x: -0.6000 | g(x): -0.0924 \n",
      "x: -0.5000 | g(x): -0.0770 \n",
      "x: -0.4000 | g(x): -0.0616 \n",
      "x: -0.3000 | g(x): -0.0462 \n",
      "x: -0.2000 | g(x): -0.0308 \n",
      "x: -0.1000 | g(x): -0.0155 \n",
      "x:  0.0000 | g(x): -0.0001 \n",
      "x:  0.1000 | g(x):  0.0153 \n",
      "x:  0.2000 | g(x):  0.0307 \n",
      "x:  0.3000 | g(x):  0.0461 \n",
      "x:  0.4000 | g(x):  0.0615 \n",
      "x:  0.5000 | g(x):  0.0768 \n",
      "x:  0.6000 | g(x):  0.0922 \n"
     ]
    }
   ],
   "source": [
    "#include <stdio.h>  \n",
    "\n",
    "/**************************************************\n",
    " ************ finitediff_backward.h ***************\n",
    " **************************************************/\n",
    "void finitediff_backward(double (*f)(double*, int), \n",
    "                         double *x, \n",
    "                         int n, \n",
    "                         double h, \n",
    "                         double *g){\n",
    "    double tmp;\n",
    "    double f0 = f(x,n);\n",
    "    for (int i=0; i<n; i++){\n",
    "        tmp = x[i]; //store temporarly\n",
    "        x[i] -= h;  //sub bandwidth param\n",
    "        g[i] = (f0 - f(x,n)) / h;\n",
    "        x[i] = tmp; //reassign orginal value\n",
    "    }\n",
    "} \n",
    "\n",
    "\n",
    "/**************************************************\n",
    " **************** EXAMPLE SCRIPT ******************\n",
    " **************************************************/\n",
    "double myfunc(double *x, int n){\n",
    "    double f = 0.0;\n",
    "    for(int i=0; i<n; i++){\n",
    "        f += x[i] * x[i];\n",
    "    }\n",
    "    f /= (double)n;\n",
    "    return f;\n",
    "}\n",
    "\n",
    "int main(){\n",
    "    double (*evalfunc)(double*, int) = &myfunc;\n",
    "    double x[]={-.6, -.5, -.4, -.3, -.2, -.1, \n",
    "                0.0, .1 , .2, .3, .4, .5, .6};\n",
    "    int n = 13;\n",
    "    double g[n];\n",
    "    double h = 0.001;\n",
    "    \n",
    "    finitediff_backward(evalfunc, x, n, h, g);\n",
    "    \n",
    "    for(int i=0; i<n; i++){\n",
    "        printf(\"x: %7.4f | g(x): %7.4f \\n\", x[i], g[i] );\n",
    "    }\n",
    "    \n",
    "    return 0;\n",
    "}\n"
   ]
  }
 ],
 "metadata": {
  "kernelspec": {
   "display_name": "C",
   "language": "c",
   "name": "c"
  },
  "language_info": {
   "file_extension": ".c",
   "mimetype": "text/plain",
   "name": "c"
  },
  "toc": {
   "base_numbering": 1,
   "nav_menu": {},
   "number_sections": true,
   "sideBar": true,
   "skip_h1_title": false,
   "title_cell": "Table of Contents",
   "title_sidebar": "Contents",
   "toc_cell": false,
   "toc_position": {},
   "toc_section_display": true,
   "toc_window_display": false
  },
  "varInspector": {
   "cols": {
    "lenName": 16,
    "lenType": 16,
    "lenVar": 40
   },
   "kernels_config": {
    "python": {
     "delete_cmd_postfix": "",
     "delete_cmd_prefix": "del ",
     "library": "var_list.py",
     "varRefreshCmd": "print(var_dic_list())"
    },
    "r": {
     "delete_cmd_postfix": ") ",
     "delete_cmd_prefix": "rm(",
     "library": "var_list.r",
     "varRefreshCmd": "cat(var_dic_list()) "
    }
   },
   "types_to_exclude": [
    "module",
    "function",
    "builtin_function_or_method",
    "instance",
    "_Feature"
   ],
   "window_display": false
  }
 },
 "nbformat": 4,
 "nbformat_minor": 2
}
